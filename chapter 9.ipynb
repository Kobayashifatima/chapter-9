{
 "cells": [
  {
   "cell_type": "markdown",
   "id": "787795a8",
   "metadata": {},
   "source": [
    "# chapter 9"
   ]
  },
  {
   "cell_type": "markdown",
   "id": "0b69d60a",
   "metadata": {},
   "source": [
    "Python Dictionary "
   ]
  },
  {
   "cell_type": "code",
   "execution_count": 1,
   "id": "fb2292b0",
   "metadata": {},
   "outputs": [
    {
     "name": "stdout",
     "output_type": "stream",
     "text": [
      "{'first_name': 'John', 'last_name': 'Doe', 'age': 30, 'city': 'New York'}\n"
     ]
    }
   ],
   "source": [
    "# Creating a dictionary to represent a person\n",
    "person = {\n",
    "    'first_name': 'John',\n",
    "    'last_name': 'Doe',\n",
    "    'age': 30,\n",
    "    'city': 'New York'\n",
    "}\n",
    "\n",
    "print(person)\n"
   ]
  },
  {
   "cell_type": "code",
   "execution_count": 2,
   "id": "3f705c2f",
   "metadata": {},
   "outputs": [
    {
     "name": "stdout",
     "output_type": "stream",
     "text": [
      "Student Name: Alice\n",
      "Student Age: 25\n"
     ]
    }
   ],
   "source": [
    "# Accessing values in a dictionary\n",
    "student = {\n",
    "    'name': 'Alice',\n",
    "    'age': 25,\n",
    "    'major': 'Computer Science'\n",
    "}\n",
    "\n",
    "# Accessing values by key\n",
    "student_name = student['name']\n",
    "student_age = student['age']\n",
    "\n",
    "print(f\"Student Name: {student_name}\")\n",
    "print(f\"Student Age: {student_age}\")\n"
   ]
  },
  {
   "cell_type": "code",
   "execution_count": 3,
   "id": "69a4e79a",
   "metadata": {},
   "outputs": [
    {
     "name": "stdout",
     "output_type": "stream",
     "text": [
      "{'make': 'Toyota', 'model': 'Camry', 'year': 2022, 'color': 'blue'}\n"
     ]
    }
   ],
   "source": [
    "# Modifying dictionary values\n",
    "car = {\n",
    "    'make': 'Toyota',\n",
    "    'model': 'Camry',\n",
    "    'year': 2020\n",
    "}\n",
    "\n",
    "# Changing the 'year' value\n",
    "car['year'] = 2022\n",
    "\n",
    "# Adding a new key-value pair\n",
    "car['color'] = 'blue'\n",
    "\n",
    "print(car)\n"
   ]
  },
  {
   "cell_type": "code",
   "execution_count": 4,
   "id": "89e8fd3d",
   "metadata": {},
   "outputs": [
    {
     "name": "stdout",
     "output_type": "stream",
     "text": [
      "Subject: Math, Grade: 95\n",
      "Subject: Science, Grade: 88\n",
      "Subject: History, Grade: 75\n"
     ]
    }
   ],
   "source": [
    "# Iterating through dictionary items\n",
    "student_grades = {\n",
    "    'Math': 95,\n",
    "    'Science': 88,\n",
    "    'History': 75\n",
    "}\n",
    "\n",
    "# Iterating through keys and values\n",
    "for subject, grade in student_grades.items():\n",
    "    print(f\"Subject: {subject}, Grade: {grade}\")\n"
   ]
  },
  {
   "cell_type": "code",
   "execution_count": 5,
   "id": "9af7562f",
   "metadata": {},
   "outputs": [
    {
     "name": "stdout",
     "output_type": "stream",
     "text": [
      "Salary: 80000\n"
     ]
    }
   ],
   "source": [
    "# Checking if a key exists in a dictionary\n",
    "employee_info = {\n",
    "    'name': 'Jane Doe',\n",
    "    'position': 'Software Engineer',\n",
    "    'salary': 80000\n",
    "}\n",
    "\n",
    "# Checking if 'salary' key exists\n",
    "if 'salary' in employee_info:\n",
    "    print(f\"Salary: {employee_info['salary']}\")\n",
    "else:\n",
    "    print(\"Salary information not available.\")\n"
   ]
  },
  {
   "cell_type": "code",
   "execution_count": 6,
   "id": "aa2d5f98",
   "metadata": {},
   "outputs": [
    {
     "name": "stdout",
     "output_type": "stream",
     "text": [
      "{'name': 'Alice', 'address': {'street': '123 Main St', 'city': 'Anytown', 'zipcode': '12345'}, 'phone_numbers': {'home': '555-1234', 'work': '555-5678'}}\n"
     ]
    }
   ],
   "source": [
    "# Creating a nested dictionary to represent a person's contact information\n",
    "contact_info = {\n",
    "    'name': 'Alice',\n",
    "    'address': {\n",
    "        'street': '123 Main St',\n",
    "        'city': 'Anytown',\n",
    "        'zipcode': '12345'\n",
    "    },\n",
    "    'phone_numbers': {\n",
    "        'home': '555-1234',\n",
    "        'work': '555-5678'\n",
    "    }\n",
    "}\n",
    "\n",
    "print(contact_info)\n"
   ]
  },
  {
   "cell_type": "code",
   "execution_count": 7,
   "id": "b72af447",
   "metadata": {},
   "outputs": [
    {
     "name": "stdout",
     "output_type": "stream",
     "text": [
      "{1: 1, 2: 4, 3: 9, 4: 16, 5: 25}\n"
     ]
    }
   ],
   "source": [
    "# Using dictionary comprehension to create a dictionary\n",
    "squares = {x: x*x for x in range(1, 6)}\n",
    "\n",
    "print(squares)\n"
   ]
  },
  {
   "cell_type": "code",
   "execution_count": 8,
   "id": "5cdb3eb4",
   "metadata": {},
   "outputs": [
    {
     "name": "stdout",
     "output_type": "stream",
     "text": [
      "{'name': 'Bob', 'age': 35}\n"
     ]
    }
   ],
   "source": [
    "# Removing key-value pairs from a dictionary\n",
    "person_info = {\n",
    "    'name': 'Bob',\n",
    "    'age': 35,\n",
    "    'city': 'Los Angeles'\n",
    "}\n",
    "\n",
    "# Removing the 'city' key-value pair\n",
    "del person_info['city']\n",
    "\n",
    "print(person_info)\n"
   ]
  },
  {
   "cell_type": "code",
   "execution_count": 9,
   "id": "086355e1",
   "metadata": {},
   "outputs": [
    {
     "name": "stdout",
     "output_type": "stream",
     "text": [
      "English Score: 0\n"
     ]
    }
   ],
   "source": [
    "# Using the get() method to access dictionary values with a default value\n",
    "student_scores = {\n",
    "    'Math': 95,\n",
    "    'Science': 88,\n",
    "    'History': 75\n",
    "}\n",
    "\n",
    "# Trying to access a subject with a default value if not found\n",
    "english_score = student_scores.get('English', 0)\n",
    "\n",
    "print(f\"English Score: {english_score}\")\n"
   ]
  },
  {
   "cell_type": "code",
   "execution_count": 10,
   "id": "a55dc720",
   "metadata": {},
   "outputs": [
    {
     "name": "stdout",
     "output_type": "stream",
     "text": [
      "Keys: ['apples', 'bananas', 'oranges']\n",
      "Values: [10, 15, 8]\n",
      "Item Count: 3\n"
     ]
    }
   ],
   "source": [
    "# Using dictionary methods\n",
    "fruit_inventory = {\n",
    "    'apples': 10,\n",
    "    'bananas': 15,\n",
    "    'oranges': 8\n",
    "}\n",
    "\n",
    "# Getting a list of keys\n",
    "keys = fruit_inventory.keys()\n",
    "\n",
    "# Getting a list of values\n",
    "values = fruit_inventory.values()\n",
    "\n",
    "# Checking the number of items in the dictionary\n",
    "item_count = len(fruit_inventory)\n",
    "\n",
    "print(f\"Keys: {list(keys)}\")\n",
    "print(f\"Values: {list(values)}\")\n",
    "print(f\"Item Count: {item_count}\")\n"
   ]
  },
  {
   "cell_type": "code",
   "execution_count": null,
   "id": "73d87eb5",
   "metadata": {},
   "outputs": [],
   "source": []
  }
 ],
 "metadata": {
  "kernelspec": {
   "display_name": "Python 3 (ipykernel)",
   "language": "python",
   "name": "python3"
  },
  "language_info": {
   "codemirror_mode": {
    "name": "ipython",
    "version": 3
   },
   "file_extension": ".py",
   "mimetype": "text/x-python",
   "name": "python",
   "nbconvert_exporter": "python",
   "pygments_lexer": "ipython3",
   "version": "3.11.4"
  }
 },
 "nbformat": 4,
 "nbformat_minor": 5
}
